{
 "cells": [
  {
   "cell_type": "code",
   "execution_count": 1,
   "id": "8278a306",
   "metadata": {},
   "outputs": [
    {
     "name": "stdout",
     "output_type": "stream",
     "text": [
      "Requirement already satisfied: requests in c:\\users\\debro\\anaconda3\\envs\\llms\\lib\\site-packages (2.32.4)\n",
      "Requirement already satisfied: beautifulsoup4 in c:\\users\\debro\\anaconda3\\envs\\llms\\lib\\site-packages (4.13.4)\n",
      "Requirement already satisfied: python-dotenv in c:\\users\\debro\\anaconda3\\envs\\llms\\lib\\site-packages (1.1.0)\n",
      "Requirement already satisfied: openai in c:\\users\\debro\\anaconda3\\envs\\llms\\lib\\site-packages (1.86.0)\n",
      "Requirement already satisfied: charset_normalizer<4,>=2 in c:\\users\\debro\\anaconda3\\envs\\llms\\lib\\site-packages (from requests) (3.4.2)\n",
      "Requirement already satisfied: idna<4,>=2.5 in c:\\users\\debro\\anaconda3\\envs\\llms\\lib\\site-packages (from requests) (3.10)\n",
      "Requirement already satisfied: urllib3<3,>=1.21.1 in c:\\users\\debro\\anaconda3\\envs\\llms\\lib\\site-packages (from requests) (2.4.0)\n",
      "Requirement already satisfied: certifi>=2017.4.17 in c:\\users\\debro\\anaconda3\\envs\\llms\\lib\\site-packages (from requests) (2025.4.26)\n",
      "Requirement already satisfied: soupsieve>1.2 in c:\\users\\debro\\anaconda3\\envs\\llms\\lib\\site-packages (from beautifulsoup4) (2.7)\n",
      "Requirement already satisfied: typing-extensions>=4.0.0 in c:\\users\\debro\\anaconda3\\envs\\llms\\lib\\site-packages (from beautifulsoup4) (4.14.0)\n",
      "Requirement already satisfied: anyio<5,>=3.5.0 in c:\\users\\debro\\anaconda3\\envs\\llms\\lib\\site-packages (from openai) (4.9.0)\n",
      "Requirement already satisfied: distro<2,>=1.7.0 in c:\\users\\debro\\anaconda3\\envs\\llms\\lib\\site-packages (from openai) (1.9.0)\n",
      "Requirement already satisfied: httpx<1,>=0.23.0 in c:\\users\\debro\\anaconda3\\envs\\llms\\lib\\site-packages (from openai) (0.28.1)\n",
      "Requirement already satisfied: jiter<1,>=0.4.0 in c:\\users\\debro\\anaconda3\\envs\\llms\\lib\\site-packages (from openai) (0.10.0)\n",
      "Requirement already satisfied: pydantic<3,>=1.9.0 in c:\\users\\debro\\anaconda3\\envs\\llms\\lib\\site-packages (from openai) (2.11.4)\n",
      "Requirement already satisfied: sniffio in c:\\users\\debro\\anaconda3\\envs\\llms\\lib\\site-packages (from openai) (1.3.1)\n",
      "Requirement already satisfied: tqdm>4 in c:\\users\\debro\\anaconda3\\envs\\llms\\lib\\site-packages (from openai) (4.67.1)\n",
      "Requirement already satisfied: httpcore==1.* in c:\\users\\debro\\anaconda3\\envs\\llms\\lib\\site-packages (from httpx<1,>=0.23.0->openai) (1.0.9)\n",
      "Requirement already satisfied: h11>=0.16 in c:\\users\\debro\\anaconda3\\envs\\llms\\lib\\site-packages (from httpcore==1.*->httpx<1,>=0.23.0->openai) (0.16.0)\n",
      "Requirement already satisfied: annotated-types>=0.6.0 in c:\\users\\debro\\anaconda3\\envs\\llms\\lib\\site-packages (from pydantic<3,>=1.9.0->openai) (0.7.0)\n",
      "Requirement already satisfied: pydantic-core==2.33.2 in c:\\users\\debro\\anaconda3\\envs\\llms\\lib\\site-packages (from pydantic<3,>=1.9.0->openai) (2.33.2)\n",
      "Requirement already satisfied: typing-inspection>=0.4.0 in c:\\users\\debro\\anaconda3\\envs\\llms\\lib\\site-packages (from pydantic<3,>=1.9.0->openai) (0.4.1)\n",
      "Requirement already satisfied: colorama in c:\\users\\debro\\anaconda3\\envs\\llms\\lib\\site-packages (from tqdm>4->openai) (0.4.6)\n"
     ]
    }
   ],
   "source": [
    "!pip install requests beautifulsoup4 python-dotenv openai\n"
   ]
  },
  {
   "cell_type": "code",
   "execution_count": 2,
   "id": "14531675",
   "metadata": {},
   "outputs": [],
   "source": [
    "\n",
    "import os\n",
    "import requests\n",
    "from bs4 import BeautifulSoup\n",
    "from dotenv import load_dotenv\n",
    "from pathlib import Path\n",
    "from openai import OpenAI\n"
   ]
  },
  {
   "cell_type": "code",
   "execution_count": 3,
   "id": "758f6ed0",
   "metadata": {},
   "outputs": [
    {
     "name": "stdout",
     "output_type": "stream",
     "text": [
      "✅ Loaded API key: sk-proj-...\n"
     ]
    }
   ],
   "source": [
    "# Load the .env file from the parent folder\n",
    "env_path = Path(\"..\") / \".env\"\n",
    "load_dotenv(dotenv_path=env_path)\n",
    "\n",
    "api_key = os.getenv(\"OPENAI_API_KEY\")\n",
    "print(f\"✅ Loaded API key: {api_key[:8]}...\" if api_key else \"❌ API key not loaded.\")\n"
   ]
  },
  {
   "cell_type": "code",
   "execution_count": 4,
   "id": "8248c440",
   "metadata": {},
   "outputs": [],
   "source": [
    "def fetch_article(url):\n",
    "    response = requests.get(url)\n",
    "    soup = BeautifulSoup(response.text, 'html.parser')\n",
    "    paragraphs = soup.find_all('p')\n",
    "    article_text = ' '.join([p.get_text() for p in paragraphs])\n",
    "    return article_text\n"
   ]
  },
  {
   "cell_type": "code",
   "execution_count": 5,
   "id": "be65a607",
   "metadata": {},
   "outputs": [],
   "source": [
    "client = OpenAI(api_key=api_key)\n",
    "\n",
    "def summarize_text(text, max_tokens=300):\n",
    "    response = client.chat.completions.create(\n",
    "        model=\"gpt-3.5-turbo\",\n",
    "        messages=[\n",
    "            {\"role\": \"system\", \"content\": \"You are a helpful assistant that summarizes the most important articles on the webpage.\"},\n",
    "            {\"role\": \"user\", \"content\": f\"Please summarize the following website using Markdown with sections like **Summary**, **Key Points**, and **Conclusion**:\\n\\n{text}\"}\n",
    "        ],\n",
    "        temperature=0.7,\n",
    "        max_tokens=max_tokens\n",
    "    )\n",
    "    return response.choices[0].message.content\n"
   ]
  },
  {
   "cell_type": "code",
   "execution_count": 6,
   "id": "5b9aea12",
   "metadata": {},
   "outputs": [],
   "source": [
    "def summarize_url(url):\n",
    "    print(f\"📥 Fetching article from: {url}\")\n",
    "    article = fetch_article(url)\n",
    "    \n",
    "    if not article or len(article.strip()) < 200:\n",
    "        return \"⚠️ Article is too short or could not be extracted.\"\n",
    "\n",
    "    print(\"🤖 Generating summary...\")\n",
    "    summary = summarize_text(article)\n",
    "    return summary\n"
   ]
  },
  {
   "cell_type": "code",
   "execution_count": 7,
   "id": "d5061b17",
   "metadata": {},
   "outputs": [
    {
     "name": "stdout",
     "output_type": "stream",
     "text": [
      "📥 Fetching article from: https://foxnews.com\n",
      "🤖 Generating summary...\n",
      "✅ Summary generated. Displaying below:\n"
     ]
    },
    {
     "data": {
      "text/markdown": [
       "**Summary:**\n",
       "The webpage provides information about various channels and services offered by FOX, such as Fox News Channel, Fox Business Channel, Fox Nation, FOX Weather, Fox Radio, and OutKick. Some services require a pay TV login, while others are free to access.\n",
       "\n",
       "**Key Points:**\n",
       "- FOX offers a range of channels and services including news, business, weather, radio, and sports content.\n",
       "- Fox News Channel and Fox Business Channel require a pay TV login to access.\n",
       "- Fox Nation and OutKick may require subscriptions but FOX Weather and Fox Radio are free to watch and listen, respectively.\n",
       "- The material on the website is copyrighted and may not be published, broadcast, rewritten, or redistributed without permission.\n",
       "- Market data is provided by Factset, and mutual fund and ETF data are provided by Refinitiv Lipper.\n",
       "- The webpage is powered and implemented by FactSet Digital Solutions.\n",
       "\n",
       "**Conclusion:**\n",
       "The webpage serves as a hub for accessing various FOX channels and services, catering to different preferences such as news, business, weather, radio, and sports. Users are informed about the access requirements for each service and the copyright restrictions in place. Market data sources are also disclosed, adding credibility to the information provided on the site."
      ],
      "text/plain": [
       "<IPython.core.display.Markdown object>"
      ]
     },
     "metadata": {},
     "output_type": "display_data"
    }
   ],
   "source": [
    "from IPython.display import Markdown, display\n",
    "\n",
    "url = \"https://foxnews.com\"\n",
    "summary = summarize_url(url)\n",
    "\n",
    "print(\"✅ Summary generated. Displaying below:\")\n",
    "display(Markdown(summary))\n"
   ]
  }
 ],
 "metadata": {
  "kernelspec": {
   "display_name": "llms",
   "language": "python",
   "name": "python3"
  },
  "language_info": {
   "codemirror_mode": {
    "name": "ipython",
    "version": 3
   },
   "file_extension": ".py",
   "mimetype": "text/x-python",
   "name": "python",
   "nbconvert_exporter": "python",
   "pygments_lexer": "ipython3",
   "version": "3.11.13"
  }
 },
 "nbformat": 4,
 "nbformat_minor": 5
}
